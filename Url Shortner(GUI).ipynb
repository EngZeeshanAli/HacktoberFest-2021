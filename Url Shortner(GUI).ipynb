{
 "cells": [
  {
   "cell_type": "markdown",
   "metadata": {},
   "source": [
    "<!-- Install Tkinter and Pyshortners before executing  -->"
   ]
  },
  {
   "cell_type": "code",
   "execution_count": 1,
   "metadata": {},
   "outputs": [],
   "source": [
    "from tkinter import *\n",
    "from pyshorteners import *"
   ]
  },
  {
   "cell_type": "code",
   "execution_count": 2,
   "metadata": {},
   "outputs": [],
   "source": [
    "master=Tk()\n",
    "url=Shortener()"
   ]
  },
  {
   "cell_type": "code",
   "execution_count": 3,
   "metadata": {},
   "outputs": [],
   "source": [
    "def short():\n",
    "    long=long_url.get()\n",
    "    shorts=url.tinyurl.short(long)\n",
    "    short_url.insert(0,shorts)\n",
    "    "
   ]
  },
  {
   "cell_type": "code",
   "execution_count": 4,
   "metadata": {},
   "outputs": [],
   "source": [
    "label1=Label(master,text=\"Url Shortner\").grid(row=0,column=0)\n",
    "label2=Label(master,text=\"copy the url\").grid(row=1,column=0)\n",
    "long_url=Entry(master)\n",
    "label1=Label(master,text=\"Url Shortner\").grid(row=0,column=0)\n",
    "short_url=Entry(master)\n",
    "Generate=Button(master,text=\"Convert\",font=(\"Arial\",12,\"bold\"),command=short).grid(row=3,column=0)"
   ]
  },
  {
   "cell_type": "code",
   "execution_count": 5,
   "metadata": {},
   "outputs": [],
   "source": [
    "long_url.grid(row=1,column=1)\n",
    "short_url.grid(row=2,column=1)"
   ]
  },
  {
   "cell_type": "code",
   "execution_count": 6,
   "metadata": {},
   "outputs": [],
   "source": [
    "master.mainloop()"
   ]
  },
  {
   "cell_type": "code",
   "execution_count": null,
   "metadata": {},
   "outputs": [],
   "source": []
  }
 ],
 "metadata": {
  "kernelspec": {
   "display_name": "Python 3",
   "language": "python",
   "name": "python3"
  },
  "language_info": {
   "codemirror_mode": {
    "name": "ipython",
    "version": 3
   },
   "file_extension": ".py",
   "mimetype": "text/x-python",
   "name": "python",
   "nbconvert_exporter": "python",
   "pygments_lexer": "ipython3",
   "version": "3.8.5"
  }
 },
 "nbformat": 4,
 "nbformat_minor": 4
}
